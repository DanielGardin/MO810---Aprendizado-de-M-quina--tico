{
 "cells": [
  {
   "cell_type": "code",
   "execution_count": 4,
   "metadata": {},
   "outputs": [],
   "source": [
    "import pandas as pd\n",
    "import numpy as np"
   ]
  },
  {
   "cell_type": "code",
   "execution_count": 112,
   "metadata": {},
   "outputs": [],
   "source": [
    "crimes = pd.DataFrame(columns=['SETOR', 'DATA', 'RUBRICA', 'LATITUDE', 'LONGITUDE'])"
   ]
  },
  {
   "cell_type": "code",
   "execution_count": 113,
   "metadata": {},
   "outputs": [],
   "source": [
    "\n",
    "for year in range(2006, 2018):\n",
    "    df = pd.read_excel(f'../dataset/Crimes/Base_Crimes_Estabelecimento_Comercial_2006_2017 - Marcelo/REC{year}.xlsx')\n",
    "    setor_feature = [column for column in df.columns if 'SETOR' in column][0]\n",
    "\n",
    "    df['SETOR'] = df[setor_feature]\n",
    "\n",
    "    df['DATA'] = df['DATA_OCORRENCIA'] + pd.to_timedelta(df['HORA_OCORRENCIA'].apply(str))\n",
    "\n",
    "    df = df[['SETOR', 'DATA', 'RUBRICA', 'LATITUDE', 'LONGITUDE']]\n",
    "\n",
    "    crimes = pd.concat([crimes, df])"
   ]
  },
  {
   "cell_type": "code",
   "execution_count": 124,
   "metadata": {},
   "outputs": [],
   "source": [
    "for year in range(2006, 2018):\n",
    "    df = pd.read_excel(f'../dataset/Crimes/Base_Crimes_Roubo_Veiculo_2006_2017 - Marcelo/RV{year}_CeMEAI_.xlsx')\n",
    "    setor_feature = [column for column in df.columns if 'SETOR' in column][0]\n",
    "\n",
    "    df['SETOR'] = df[setor_feature]\n",
    "\n",
    "\n",
    "\n",
    "    df['DATA'] = df['DATA_OCORRENCIA'] + pd.to_timedelta(df['HORA_OCORRENCIA'].apply(str))\n",
    "\n",
    "    df = df[['SETOR', 'DATA', 'RUBRICA', 'LATITUDE', 'LONGITUDE']]\n",
    "\n",
    "    crimes = pd.concat([crimes, df])"
   ]
  },
  {
   "cell_type": "code",
   "execution_count": null,
   "metadata": {},
   "outputs": [],
   "source": [
    "for year in range(2006, 2018):\n",
    "    df = pd.read_excel(f'../dataset/Crimes/Base_Crimes_Transeunte_2006_2017 - Marcelo/RT{year}_CeMEAI_.xlsx')\n",
    "    setor_feature = [column for column in df.columns if 'SETOR' in column][0]\n",
    "\n",
    "    df['SETOR'] = df[setor_feature]\n",
    "\n",
    "    df['DATA'] = df['DATA_OCORRENCIA'] + pd.to_timedelta(df['HORA_OCORRENCIA'].apply(str))\n",
    "\n",
    "    df = df[['SETOR', 'DATA', 'RUBRICA', 'LATITUDE', 'LONGITUDE']]\n",
    "\n",
    "    crimes = pd.concat([crimes, df])"
   ]
  },
  {
   "cell_type": "code",
   "execution_count": 43,
   "metadata": {},
   "outputs": [],
   "source": [
    "crimes = crimes.sort_values(['SETOR', 'DATA']).reset_index(drop=True)\n",
    "crimes['LATITUDE'] = crimes['LATITUDE'].apply(lambda value : float(str(value).replace(',', '.')))\n",
    "crimes['LONGITUDE'] = crimes['LONGITUDE'].apply(lambda value : float(str(value).replace(',', '.')))\n",
    "crimes['SETOR'] = crimes['SETOR'].apply(lambda row : row if pd.isna(row) else str(int(row)))\n",
    "\n",
    "crimes = crimes.dropna(subset='SETOR')\n",
    "crimes = crimes[crimes['SETOR'] != '0']"
   ]
  },
  {
   "cell_type": "code",
   "execution_count": 75,
   "metadata": {},
   "outputs": [
    {
     "data": {
      "text/html": [
       "<div>\n",
       "<style scoped>\n",
       "    .dataframe tbody tr th:only-of-type {\n",
       "        vertical-align: middle;\n",
       "    }\n",
       "\n",
       "    .dataframe tbody tr th {\n",
       "        vertical-align: top;\n",
       "    }\n",
       "\n",
       "    .dataframe thead th {\n",
       "        text-align: right;\n",
       "    }\n",
       "</style>\n",
       "<table border=\"1\" class=\"dataframe\">\n",
       "  <thead>\n",
       "    <tr style=\"text-align: right;\">\n",
       "      <th></th>\n",
       "      <th>SETOR</th>\n",
       "      <th>DATA</th>\n",
       "      <th>RUBRICA</th>\n",
       "      <th>LATITUDE</th>\n",
       "      <th>LONGITUDE</th>\n",
       "    </tr>\n",
       "  </thead>\n",
       "  <tbody>\n",
       "    <tr>\n",
       "      <th>164</th>\n",
       "      <td>350900705000073</td>\n",
       "      <td>2017-03-19 19:45:00</td>\n",
       "      <td>Roubo (art. 157) - VEICULO</td>\n",
       "      <td>-23.389156</td>\n",
       "      <td>-46.738137</td>\n",
       "    </tr>\n",
       "    <tr>\n",
       "      <th>165</th>\n",
       "      <td>351380105000018</td>\n",
       "      <td>2017-08-26 14:30:00</td>\n",
       "      <td>Roubo (art. 157) - VEICULO</td>\n",
       "      <td>-23.678342</td>\n",
       "      <td>-46.630919</td>\n",
       "    </tr>\n",
       "    <tr>\n",
       "      <th>166</th>\n",
       "      <td>351380105000020</td>\n",
       "      <td>2017-10-18 23:10:00</td>\n",
       "      <td>Roubo (art. 157) - VEICULO</td>\n",
       "      <td>-23.673392</td>\n",
       "      <td>-46.631236</td>\n",
       "    </tr>\n",
       "    <tr>\n",
       "      <th>167</th>\n",
       "      <td>351380105000031</td>\n",
       "      <td>2017-09-19 03:18:00</td>\n",
       "      <td>Roubo (art. 157) - VEICULO</td>\n",
       "      <td>-23.694703</td>\n",
       "      <td>-46.632279</td>\n",
       "    </tr>\n",
       "    <tr>\n",
       "      <th>168</th>\n",
       "      <td>351380105000035</td>\n",
       "      <td>2017-04-29 05:00:00</td>\n",
       "      <td>Roubo (art. 157) - VEICULO</td>\n",
       "      <td>-23.687347</td>\n",
       "      <td>-46.633541</td>\n",
       "    </tr>\n",
       "  </tbody>\n",
       "</table>\n",
       "</div>"
      ],
      "text/plain": [
       "               SETOR                 DATA                     RUBRICA  \\\n",
       "164  350900705000073  2017-03-19 19:45:00  Roubo (art. 157) - VEICULO   \n",
       "165  351380105000018  2017-08-26 14:30:00  Roubo (art. 157) - VEICULO   \n",
       "166  351380105000020  2017-10-18 23:10:00  Roubo (art. 157) - VEICULO   \n",
       "167  351380105000031  2017-09-19 03:18:00  Roubo (art. 157) - VEICULO   \n",
       "168  351380105000035  2017-04-29 05:00:00  Roubo (art. 157) - VEICULO   \n",
       "\n",
       "      LATITUDE  LONGITUDE  \n",
       "164 -23.389156 -46.738137  \n",
       "165 -23.678342 -46.630919  \n",
       "166 -23.673392 -46.631236  \n",
       "167 -23.694703 -46.632279  \n",
       "168 -23.687347 -46.633541  "
      ]
     },
     "execution_count": 75,
     "metadata": {},
     "output_type": "execute_result"
    }
   ],
   "source": [
    "crimes.to_csv(\"../dataset/Crimes/Listagem_Geral.csv\")\n",
    "crimes.head()"
   ]
  },
  {
   "cell_type": "code",
   "execution_count": 65,
   "metadata": {},
   "outputs": [],
   "source": []
  },
  {
   "cell_type": "code",
   "execution_count": 67,
   "metadata": {},
   "outputs": [
    {
     "name": "stderr",
     "output_type": "stream",
     "text": [
      "/tmp/ipykernel_202700/3164387704.py:1: SettingWithCopyWarning:\n",
      "\n",
      "\n",
      "A value is trying to be set on a copy of a slice from a DataFrame.\n",
      "Try using .loc[row_indexer,col_indexer] = value instead\n",
      "\n",
      "See the caveats in the documentation: https://pandas.pydata.org/pandas-docs/stable/user_guide/indexing.html#returning-a-view-versus-a-copy\n",
      "\n"
     ]
    }
   ],
   "source": [
    "crimes['SETOR'] = crimes['SETOR'].apply(lambda row : row if pd.isna(row) else str(int(row)))"
   ]
  },
  {
   "cell_type": "code",
   "execution_count": 69,
   "metadata": {},
   "outputs": [
    {
     "data": {
      "text/html": [
       "<div>\n",
       "<style scoped>\n",
       "    .dataframe tbody tr th:only-of-type {\n",
       "        vertical-align: middle;\n",
       "    }\n",
       "\n",
       "    .dataframe tbody tr th {\n",
       "        vertical-align: top;\n",
       "    }\n",
       "\n",
       "    .dataframe thead th {\n",
       "        text-align: right;\n",
       "    }\n",
       "</style>\n",
       "<table border=\"1\" class=\"dataframe\">\n",
       "  <thead>\n",
       "    <tr style=\"text-align: right;\">\n",
       "      <th></th>\n",
       "      <th>SETOR</th>\n",
       "      <th>DATA</th>\n",
       "      <th>RUBRICA</th>\n",
       "      <th>LATITUDE</th>\n",
       "      <th>LONGITUDE</th>\n",
       "    </tr>\n",
       "  </thead>\n",
       "  <tbody>\n",
       "    <tr>\n",
       "      <th>0</th>\n",
       "      <td>0</td>\n",
       "      <td>2006-01-11 11:00:00</td>\n",
       "      <td>Roubo (art. 157)</td>\n",
       "      <td>-46.759060</td>\n",
       "      <td>-23.499878</td>\n",
       "    </tr>\n",
       "    <tr>\n",
       "      <th>1</th>\n",
       "      <td>0</td>\n",
       "      <td>2006-02-02 18:20:00</td>\n",
       "      <td>Roubo (art. 157)</td>\n",
       "      <td>-46.633502</td>\n",
       "      <td>-23.684184</td>\n",
       "    </tr>\n",
       "    <tr>\n",
       "      <th>2</th>\n",
       "      <td>0</td>\n",
       "      <td>2006-03-26 22:45:00</td>\n",
       "      <td>Roubo (art. 157)</td>\n",
       "      <td>-46.629462</td>\n",
       "      <td>-23.675887</td>\n",
       "    </tr>\n",
       "    <tr>\n",
       "      <th>3</th>\n",
       "      <td>0</td>\n",
       "      <td>2006-04-01 22:30:00</td>\n",
       "      <td>Roubo (art. 157)</td>\n",
       "      <td>-46.633588</td>\n",
       "      <td>-23.682537</td>\n",
       "    </tr>\n",
       "    <tr>\n",
       "      <th>4</th>\n",
       "      <td>0</td>\n",
       "      <td>2006-04-26 22:00:00</td>\n",
       "      <td>Roubo (art. 157)</td>\n",
       "      <td>-46.629715</td>\n",
       "      <td>-23.675736</td>\n",
       "    </tr>\n",
       "    <tr>\n",
       "      <th>...</th>\n",
       "      <td>...</td>\n",
       "      <td>...</td>\n",
       "      <td>...</td>\n",
       "      <td>...</td>\n",
       "      <td>...</td>\n",
       "    </tr>\n",
       "    <tr>\n",
       "      <th>1140800</th>\n",
       "      <td>355030896000247</td>\n",
       "      <td>2017-10-24 05:20:00</td>\n",
       "      <td>Roubo (art. 157) - TRANSEUNTE</td>\n",
       "      <td>-23.544773</td>\n",
       "      <td>-46.397234</td>\n",
       "    </tr>\n",
       "    <tr>\n",
       "      <th>1140801</th>\n",
       "      <td>355030896000247</td>\n",
       "      <td>NaN</td>\n",
       "      <td>Roubo (art. 157) - TRANSEUNTE</td>\n",
       "      <td>-23.545410</td>\n",
       "      <td>-46.396534</td>\n",
       "    </tr>\n",
       "    <tr>\n",
       "      <th>1140802</th>\n",
       "      <td>355030896000247</td>\n",
       "      <td>NaN</td>\n",
       "      <td>Roubo (art. 157) - TRANSEUNTE</td>\n",
       "      <td>-23.548463</td>\n",
       "      <td>-46.390102</td>\n",
       "    </tr>\n",
       "    <tr>\n",
       "      <th>1140803</th>\n",
       "      <td>355030896000247</td>\n",
       "      <td>NaN</td>\n",
       "      <td>Roubo (art. 157) - TRANSEUNTE</td>\n",
       "      <td>-23.545273</td>\n",
       "      <td>-46.396587</td>\n",
       "    </tr>\n",
       "    <tr>\n",
       "      <th>1140804</th>\n",
       "      <td>355280905000236</td>\n",
       "      <td>2017-09-14 01:10:00</td>\n",
       "      <td>Roubo (art. 157) - VEICULO</td>\n",
       "      <td>-23.603268</td>\n",
       "      <td>-46.779699</td>\n",
       "    </tr>\n",
       "  </tbody>\n",
       "</table>\n",
       "<p>1140805 rows × 5 columns</p>\n",
       "</div>"
      ],
      "text/plain": [
       "                   SETOR                 DATA                        RUBRICA  \\\n",
       "0                      0  2006-01-11 11:00:00               Roubo (art. 157)   \n",
       "1                      0  2006-02-02 18:20:00               Roubo (art. 157)   \n",
       "2                      0  2006-03-26 22:45:00               Roubo (art. 157)   \n",
       "3                      0  2006-04-01 22:30:00               Roubo (art. 157)   \n",
       "4                      0  2006-04-26 22:00:00               Roubo (art. 157)   \n",
       "...                  ...                  ...                            ...   \n",
       "1140800  355030896000247  2017-10-24 05:20:00  Roubo (art. 157) - TRANSEUNTE   \n",
       "1140801  355030896000247                  NaN  Roubo (art. 157) - TRANSEUNTE   \n",
       "1140802  355030896000247                  NaN  Roubo (art. 157) - TRANSEUNTE   \n",
       "1140803  355030896000247                  NaN  Roubo (art. 157) - TRANSEUNTE   \n",
       "1140804  355280905000236  2017-09-14 01:10:00     Roubo (art. 157) - VEICULO   \n",
       "\n",
       "          LATITUDE  LONGITUDE  \n",
       "0       -46.759060 -23.499878  \n",
       "1       -46.633502 -23.684184  \n",
       "2       -46.629462 -23.675887  \n",
       "3       -46.633588 -23.682537  \n",
       "4       -46.629715 -23.675736  \n",
       "...            ...        ...  \n",
       "1140800 -23.544773 -46.397234  \n",
       "1140801 -23.545410 -46.396534  \n",
       "1140802 -23.548463 -46.390102  \n",
       "1140803 -23.545273 -46.396587  \n",
       "1140804 -23.603268 -46.779699  \n",
       "\n",
       "[1140805 rows x 5 columns]"
      ]
     },
     "execution_count": 69,
     "metadata": {},
     "output_type": "execute_result"
    }
   ],
   "source": [
    "crimes"
   ]
  },
  {
   "cell_type": "code",
   "execution_count": 59,
   "metadata": {},
   "outputs": [
    {
     "name": "stderr",
     "output_type": "stream",
     "text": [
      "/tmp/ipykernel_202700/2285089097.py:1: DtypeWarning:\n",
      "\n",
      "Columns (2) have mixed types. Specify dtype option on import or set low_memory=False.\n",
      "\n"
     ]
    }
   ],
   "source": [
    "crimes = pd.read_csv(\"../dataset/Crimes/Listagem_Geral.csv\", index_col=0)"
   ]
  },
  {
   "cell_type": "code",
   "execution_count": null,
   "metadata": {},
   "outputs": [],
   "source": []
  }
 ],
 "metadata": {
  "kernelspec": {
   "display_name": "ML",
   "language": "python",
   "name": "python3"
  },
  "language_info": {
   "codemirror_mode": {
    "name": "ipython",
    "version": 3
   },
   "file_extension": ".py",
   "mimetype": "text/x-python",
   "name": "python",
   "nbconvert_exporter": "python",
   "pygments_lexer": "ipython3",
   "version": "3.9.16"
  }
 },
 "nbformat": 4,
 "nbformat_minor": 2
}
